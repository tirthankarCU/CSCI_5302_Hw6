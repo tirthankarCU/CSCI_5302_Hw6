{
 "cells": [
  {
   "cell_type": "markdown",
   "metadata": {},
   "source": [
    "## HW \\#6: Multimodal Localization with Particle Filters\n",
    "<p style=\"position: relative; top:-20px; margin: 0px; padding 0px; font-size: 12px\">(C) 2023 Bradley Hayes and Christoffer Heckman, University of Colorado Boulder</p>\n",
    "<p style=\"position: relative; top:-20px; margin: 0px; padding 0px; font-size: 4px\">v1.0</p>\n",
    "\n",
    "**Deliverable**: A completed Jupyter notebook in both ipynb and PDF format, uploaded to Canvas. The starter code will generate the necessary images, please do not modify any code that visualizes results.\n",
    "\n",
    "**Graduate Students**: Please complete the entire assignment.\n",
    "\n",
    "**Undergraduate Students**: Please complete questions that do not have **(GRAD)** next to them. (You may attempt these for extra credit)"
   ]
  },
  {
   "cell_type": "markdown",
   "metadata": {},
   "source": [
    "### Introduction\n",
    "Particle filters, also known as Sequential Monte Carlo methods, are a powerful technique for estimating the state of a dynamic system when given partial, noisy observations. In the context of robotics, particle filters can be used for tasks such as localization, mapping, and simultaneous localization and mapping (SLAM).\n",
    "\n",
    "### Overview of Particle Filters\n",
    "A particle filter uses a set of random samples, or particles, to represent the probability distribution of the system's state. Each particle represents a hypothesis about the true state of the system. The particle filter algorithm iteratively updates the particle set based on new observations and the system's dynamics. In this assignment, we will be using a fixed size set of particles and we will resample using a balance of existing estimates and newly sampled estimates. \n",
    "\n",
    "The algorithm can be broken down into the following steps:\n",
    "\n",
    "- **Initialization**: Generate an initial set of particles representing the prior distribution of the system's state.\n",
    "- **Prediction**: Update the particles based on the system's dynamics and control inputs.\n",
    "- **Update**: Take sensor observations and update the particle weights based on the likelihood of the observed measurements.\n",
    "- **Resampling**: Replace low-weight particles with newly sampled particles, eliminating highly unlikely particles, balancing between resampling using more probable existing ones and new guesses elsewhere in the state space.\n",
    "\n",
    "At each timestep, the **Prediction**, **Update**, and **Resampling** steps are performed, keeping an up-to-date set of weighted state estimates forming a multimodal distribution that is updated with a bounded compute cost per cycle."
   ]
  },
  {
   "cell_type": "markdown",
   "metadata": {},
   "source": [
    "### Part 1: Particle Filter Foundations\n",
    "\n",
    "In this section, you will implement a generic `ParticleFilter` class that will be usable with different motion and observation models for localization tasks. As such, it is important that you implement your solution to work for any dimensionality of world passed in. Your code should be able to determine the dimensionality of the environment from the `world_size` variable, which will be given in the form of a matrix where each row i gives the minimum and maximum allowable values (columns 0 and 1, respectively) for the ith dimension of the world.\n",
    "\n",
    "Within the simulations, your Particle Filter functions will be called in this order:\n",
    "- Resample\n",
    "- Predict\n",
    "- Update"
   ]
  },
  {
   "cell_type": "code",
   "execution_count": 1,
   "metadata": {},
   "outputs": [],
   "source": [
    "import numpy as np\n",
    "import matplotlib.pyplot as plt\n",
    "import ipywidgets as widgets\n",
    "from IPython.display import display, clear_output\n",
    "from matplotlib.lines import Line2D\n",
    "import time\n",
    "import math"
   ]
  },
  {
   "cell_type": "code",
   "execution_count": 26,
   "metadata": {},
   "outputs": [],
   "source": [
    "class LinearParticleFilter:\n",
    "    def __init__(self, num_particles: int, world_size: np.ndarray, landmarks: np.ndarray, motion_noise_std: float, sensor_noise_std: float):\n",
    "        '''\n",
    "        num_particles: Number of particles tracked by the filter at every timestep\n",
    "        world_size: Numpy array with row entries [min,max] value\n",
    "        landmarks: Numpy array where each row contains coordinates for the centroid of a landmark\n",
    "        motion_noise_std: Standard deviation of motion model noise term\n",
    "        sensor_noise_std: Standard deviation of sensor model noise term\n",
    "        '''\n",
    "        self.J=num_particles\n",
    "        self.world_size=world_size\n",
    "        self.motion_noise_std=motion_noise_std\n",
    "        self.sensor_noise_std=sensor_noise_std\n",
    "        self.particles=np.array([[self.sample_random_state()] for _ in range(self.J)])\n",
    "        self.weights=np.array([[1/self.J] for _ in range(self.J)])\n",
    "        self.landmarks=landmarks\n",
    "        self.indexArr=[i for i in range(self.J)]\n",
    "\n",
    "    def sample_random_state(self) -> float:\n",
    "        '''\n",
    "        Returns a random state within world_size bounds\n",
    "        '''\n",
    "        if isinstance(self.world_size[0],list)==False:\n",
    "            return [np.random.uniform(self.world_size[0],self.world_size[1])]\n",
    "        sz=len(self.world_size)\n",
    "        rState=[np.random.uniform(self.world_size[i][0],self.world_size[i][1]) for i in range(sz)]\n",
    "        return rState\n",
    "        \n",
    "    def predict(self, u: np.ndarray):\n",
    "        '''\n",
    "        u: Motion update (np.ndarray indicating movement distance)\n",
    "        motion_noise_std: Motion model uncertainty\n",
    "        Update particle positions by u, while incorporating 0-mean Gaussian noise with stdev=motion_noise_std\n",
    "        '''\n",
    "        for id,p in enumerate(self.particles):\n",
    "            self.particles[id]=np.clip(p+u+np.random.normal(0,self.motion_noise_std),min(self.world_size),max(self.world_size))\n",
    "        \n",
    "    def update(self, z: np.ndarray):\n",
    "        '''\n",
    "        z: Distance from agent to the nearest observable landmark\n",
    "        Update particle weights using sensor reading z, which gives the distance to the nearest landmark.\n",
    "        Particle weights should be updated using a Gaussian model centered at z. \n",
    "        Each weight must be the probability mass within a Gaussian, based on the difference between\n",
    "        that particle's distance to the closest landmark and the distribution's mean (z),\n",
    "        with stddev=sensor_noise_std\n",
    "        \n",
    "        All particle weights must be normalized before returning from this function\n",
    "        '''\n",
    "        def sensor_model(x):     \n",
    "            if isinstance(z,float):\n",
    "                eta=1/(self.sensor_noise_std*np.sqrt(2*np.pi))\n",
    "                return eta*np.exp(-0.5*((z-x[0])/self.sensor_noise_std)**2)\n",
    "        wt=[0]*self.J\n",
    "        for i_o,x in enumerate(self.particles):\n",
    "            zp=min([abs(x-self.landmarks[i]) for i in range(len(self.landmarks))])\n",
    "            wt[i_o]=sensor_model(zp)\n",
    "        # mm=min(self.weights)\n",
    "        # try:\n",
    "        #     assert mm>=0\n",
    "        # except AssertionError as e:\n",
    "        #     print(z)\n",
    "        alpha=0.1 #weight given to history.\n",
    "        self.weights=alpha*self.weights+(1-alpha)*np.array(wt).reshape(self.J,1)\n",
    "        n_sum=np.sum(self.weights,axis=0)\n",
    "        self.weights=self.weights/n_sum\n",
    "        # My code is written for multi-dimensional state, but the prints don't take that into consideration so reshaping\n",
    "        self.weights=self.weights.ravel()\n",
    "        self.particles=self.particles.ravel()\n",
    "\n",
    "        \n",
    "    def resample(self):\n",
    "        '''\n",
    "        Sample new particles proportional to their weight.\n",
    "        Your implementation should sample 80% of its particles from the existing batch\n",
    "        and 20% of its particles should be sampled uniformly at random from the state space.\n",
    "\n",
    "        Make sure to renormalize your particle's weights before returning\n",
    "        '''\n",
    "        self.weights=self.weights.reshape(-1,1)\n",
    "        self.particles=self.particles.reshape(-1,1)\n",
    "        # My code is written for multi-dimensional state, but the prints don't take that into consideration so reshaping\n",
    "        n=int(math.ceil(self.J*0.8))\n",
    "        temp=np.mean(self.weights,axis=1)\n",
    "        index=[np.random.choice(self.indexArr,p=temp.tolist()) for _ in range(n)]\n",
    "        reSample=[]\n",
    "        for _ in index:\n",
    "            reSample.append(np.array(self.particles[_]))\n",
    "        m=self.J-n \n",
    "        for _ in range(m):\n",
    "            reSample.append(np.array(self.sample_random_state()))\n",
    "        self.particles=np.array(reSample) \n",
    "\n",
    "    def estimate(self) -> np.ndarray:\n",
    "        '''\n",
    "        Provides a state estimate based on the particles within the filter.\n",
    "        Returns the state estimate within the most likely particle\n",
    "        '''\n",
    "        mx_wt=max(self.weights)\n",
    "        equi_state=[]\n",
    "        for id,wt in enumerate(self.weights):\n",
    "            if mx_wt==wt:\n",
    "                equi_state.append(self.particles[id])\n",
    "        id=np.random.randint(0,len(equi_state))\n",
    "        return np.array([equi_state[id]])\n",
    "    "
   ]
  },
  {
   "cell_type": "markdown",
   "metadata": {},
   "source": [
    "### Simulation Controls\n",
    "You can use these sliders to change aspects of the simulations that are run. Domain Parameters control the ground truth of the actual simulation itself, whereas the Particle Filter parameters are your model of the domain. For best results, these values will match closely, but this is rarely achievable in practice."
   ]
  },
  {
   "cell_type": "code",
   "execution_count": 27,
   "metadata": {
    "scrolled": false
   },
   "outputs": [
    {
     "data": {
      "application/vnd.jupyter.widget-view+json": {
       "model_id": "56cf7c7126994318b2734613135f14c3",
       "version_major": 2,
       "version_minor": 0
      },
      "text/plain": [
       "VBox(children=(Label(value='Domain Parameters'), HBox(children=(Label(value='Motion Noise STDev'), FloatSlider…"
      ]
     },
     "metadata": {},
     "output_type": "display_data"
    }
   ],
   "source": [
    "from ctrls import *\n",
    "display_ctrls()"
   ]
  },
  {
   "cell_type": "markdown",
   "metadata": {},
   "source": [
    "### Simulation code for a 1D Linear Domain (a robot that moves along a single bounded axis)\n",
    "You may play around with the initial_pos, control_sequence, and landmarks variables to build intuition for how the particle filter works in different conditions."
   ]
  },
  {
   "cell_type": "code",
   "execution_count": 28,
   "metadata": {},
   "outputs": [],
   "source": [
    "world_size = np.array([-10,10])\n",
    "motion_noise_std = domain_motion_noise_slider.value\n",
    "sensor_noise_std = domain_sensor_noise_slider.value\n",
    "num_particles = filter_num_particles_slider.value\n",
    "\n",
    "initial_pos = np.random.uniform(world_size[0], world_size[1])\n",
    "control_sequence = [1, 1, -0.2, -0.1, 0.2, 0, 0.1, 2, .4, .2, -0.2, -0.5, -0.1, -0.1] * 3\n",
    "landmarks = np.array([0,5])\n",
    "# landmarks = np.array([0])\n",
    "# landmarks = np.array([0,5,-2.5])\n",
    "\n",
    "pf = LinearParticleFilter(num_particles, world_size, landmarks, filter_motion_noise_slider.value, filter_sensor_noise_slider.value)\n",
    "est_poses, real_poses = run_linear_particle_filter_simulation(pf, world_size, landmarks, motion_noise_std, sensor_noise_std, initial_pos, control_sequence)\n"
   ]
  },
  {
   "cell_type": "code",
   "execution_count": 29,
   "metadata": {
    "scrolled": true
   },
   "outputs": [
    {
     "data": {
      "image/png": "[encoded data removed]",
      "text/plain": [
       "<Figure size 432x288 with 1 Axes>"
      ]
     },
     "metadata": {
      "needs_background": "light"
     },
     "output_type": "display_data"
    }
   ],
   "source": [
    "for rob_pos, est_pos in zip(real_poses, est_poses):\n",
    "    time.sleep(0.1)\n",
    "    clear_output(wait=True)\n",
    "    visualize_linear_world(rob_pos, est_pos, landmarks, world_size)"
   ]
  },
  {
   "cell_type": "markdown",
   "metadata": {},
   "source": [
    "### Analysis:\n",
    "Edit the landmarks array above -- what happens when there's just one landmark at position 0? What if there are two landmarks? Or three? Since this simple sensor model only looks at distance to the nearest landmark, describe how increasing landmark count and the distance between them affects our position estimates."
   ]
  },
  {
   "attachments": {},
   "cell_type": "markdown",
   "metadata": {},
   "source": [
    "#### Your Response:\n",
    "> Since the sensor model is just looking at the closest distance to the nearest landmark, adding more landmarks will increase the uncertainty in pose estimates. Let's say [$d$] is the distance measured by the sensor to the closest landmark, if there are multiple landmarks multiple particles will statisfy the condition of being at $d$ distance away from those mulitple landmarks, so the weight distribution of particles will be more spread out and the pose estimates will be more uncertain. "
   ]
  },
  {
   "cell_type": "markdown",
   "metadata": {},
   "source": [
    "#### (GRAD) Circular World Particle Filter\n",
    "Next, implement a particle filter for a robot that operates on the circumference of a circular world: landmarks will be visible from either side, but you will need to pay special attention to the fact that the coordinate system wraps around at position `0` and position `world_circumference`"
   ]
  },
  {
   "cell_type": "code",
   "execution_count": 36,
   "metadata": {},
   "outputs": [],
   "source": [
    "class CircularParticleFilter:\n",
    "    def __init__(self, num_particles: int, world_size: float, landmarks: np.ndarray, motion_noise_std: float, sensor_noise_std: float):\n",
    "        '''\n",
    "        num_particles: Number of particles tracked by the filter at every timestep\n",
    "        world_size: Float describing the circumference of the robot's world\n",
    "        landmarks: Numpy array where each row contains coordinates for the centroid of a landmark\n",
    "        motion_noise_std: Standard deviation of motion model noise term\n",
    "        sensor_noise_std: Standard deviation of sensor model noise term\n",
    "        '''\n",
    "        self.J=num_particles\n",
    "        self.motion_noise_std=motion_noise_std\n",
    "        self.sensor_noise_std=sensor_noise_std \n",
    "        self.landmarks=landmarks\n",
    "        self.world_circumference=world_size \n",
    "        self.particles=np.random.uniform(0,self.world_circumference,size=(self.J))\n",
    "        self.weights=np.array([(1/self.J) for _ in range(self.J)])\n",
    "    def resize():\n",
    "        pass\n",
    "    def wrap_position(self, pos: float, world_circumference: float):\n",
    "        '''\n",
    "        Ensure that pos is in the range [0, world_circumference]\n",
    "        '''\n",
    "        return np.mod(pos, world_circumference)\n",
    "\n",
    "    def predict(self, u: float):\n",
    "        '''\n",
    "        Update particle positions based on motion model\n",
    "        u: Control signaling the amount of motion to enact\n",
    "        '''\n",
    "        self.particles=self.wrap_position(self.particles+u+np.random.normal(0,self.motion_noise_std,size=(self.J)),self.world_circumference)\n",
    "        #self.pCount('p',0,self.world_circumference//2)\n",
    "\n",
    "    def update(self, z):\n",
    "        '''\n",
    "        Update particle weights based on the distance to the nearest landmark using a Gaussian probability model\n",
    "        (Make sure to accommodate the wrap-around!)\n",
    "        \n",
    "        z: Distance to nearest landmark\n",
    "        '''\n",
    "        def guassian(zp):\n",
    "            eta=1/(self.sensor_noise_std*np.sqrt(2*np.pi))\n",
    "            return eta*np.exp( -0.5*((z-zp)/self.sensor_noise_std)**2 )\n",
    "        zp=np.min([np.min([np.mod(self.landmarks[i]-self.particles,self.world_circumference),\\\n",
    "                           np.mod(self.particles-self.landmarks[i],self.world_circumference)],axis=0)\\\n",
    "                           for i in range(self.landmarks.shape[0])],axis=0)\n",
    "        alpha=0.05 #weight given to history.\n",
    "        self.weights=alpha*self.weights+(1-alpha)*guassian(zp)\n",
    "        normalize=np.sum(self.weights)\n",
    "        self.weights=self.weights/normalize\n",
    "        #self.pCount('u',0,self.world_circumference//2)\n",
    "        \n",
    "    def resample(self):\n",
    "        '''\n",
    "        Your implementation should sample 80% of its particles from the existing batch\n",
    "        and 20% of its particles should be sampled uniformly at random from the state space.\n",
    "        Remember to renormalize your particle weights when done.\n",
    "        '''\n",
    "        n=int(self.J*0.8)\n",
    "        m=self.J-n\n",
    "        indexArr=[i for i in range(self.J)]\n",
    "        index=[np.random.choice(indexArr,p=self.weights.tolist()) for _ in range(n)]\n",
    "        greedy_particles=np.array([self.particles[i] for i in index])\n",
    "        uniform_particles=np.random.uniform(0,self.world_circumference,size=(m))\n",
    "        self.particles=np.concatenate([greedy_particles,uniform_particles])\n",
    "        #self.pCount('r',0,self.world_circumference//2)\n",
    "        \n",
    "    def pCount(self,txt,lb,ub):\n",
    "        return \n",
    "        cnt=0\n",
    "        for p in self.particles:\n",
    "            if lb<=p and p<=ub:\n",
    "                cnt+=1\n",
    "        print(f'{txt}: {cnt}')\n",
    "\n",
    "    def estimate(self) -> float:\n",
    "        '''\n",
    "        Returns a state estimate from the filter based on the most likely particle\n",
    "        '''\n",
    "        id=np.argmax(self.weights)\n",
    "        return self.particles[id]\n",
    "        "
   ]
  },
  {
   "cell_type": "markdown",
   "metadata": {},
   "source": [
    "### 2D Circular World Setup Code"
   ]
  },
  {
   "cell_type": "code",
   "execution_count": 39,
   "metadata": {},
   "outputs": [],
   "source": [
    "world_circumference = 8\n",
    "motion_noise_std = domain_motion_noise_slider.value\n",
    "sensor_noise_std = domain_sensor_noise_slider.value\n",
    "num_particles = filter_num_particles_slider.value\n",
    "\n",
    "initial_pos = np.random.uniform(0, world_circumference)\n",
    "# control_sequence = [2, -1] * 15\n",
    "# landmarks = np.array([0])\n",
    "control_sequence = [1, 1, -0.2, -0.1, 0.2, 0, 0.1, 2, .4, .2, -0.2, -0.5, -0.1, -0.1] * 3\n",
    "landmarks = np.array([0])\n",
    "pf = CircularParticleFilter(num_particles, world_circumference, landmarks, filter_motion_noise_slider.value, filter_sensor_noise_slider.value)\n",
    "est_poses, real_poses = run_circular_particle_filter_simulation(pf, world_circumference, landmarks, motion_noise_std, sensor_noise_std, initial_pos, control_sequence)\n",
    "\n",
    "est_poses=np.array(est_poses)"
   ]
  },
  {
   "cell_type": "code",
   "execution_count": 40,
   "metadata": {},
   "outputs": [
    {
     "data": {
      "image/png": "[encoded data removed]",
      "text/plain": [
       "<Figure size 432x288 with 1 Axes>"
      ]
     },
     "metadata": {
      "needs_background": "light"
     },
     "output_type": "display_data"
    }
   ],
   "source": [
    "import time\n",
    "for rob_pos, est_pos in zip(real_poses, est_poses):\n",
    "    time.sleep(0.1)\n",
    "    clear_output(wait=True)\n",
    "    visualize_circular_world(rob_pos, est_pos, landmarks, world_circumference)\n",
    "    "
   ]
  },
  {
   "cell_type": "markdown",
   "metadata": {},
   "source": [
    "#### Analysis:\n",
    "What happens when the size of the steps in the control sequence approach the stdev of the motion noise? What happens if the steps are much larger than the motion noise (e.g., 1 vs. 0.01)?"
   ]
  },
  {
   "attachments": {},
   "cell_type": "markdown",
   "metadata": {},
   "source": [
    "#### Your Response:\n",
    "> If the motion model noise is increased, during the prediction step (which uses the motion model) the particles get spead out more. This spreading out of particles from few compact locations is due to the fact that after the control action our model is uncertain what is the actual pose estiamte. Since the motion model is noisy the algorithm entirely relies upon the sensor model to give a correct pose estimation. For one landmark every sensor measurement is associated with two possible pose estimate regions, therefore if the motion noise is more we get almost two equally dense regions of particles for one landmark. Less motion model noise makes one of the two pose estimate regions more dense with particles. "
   ]
  }
 ],
 "metadata": {
  "kernelspec": {
   "display_name": "Python 3 (ipykernel)",
   "language": "python",
   "name": "python3"
  },
  "language_info": {
   "codemirror_mode": {
    "name": "ipython",
    "version": 3
   },
   "file_extension": ".py",
   "mimetype": "text/x-python",
   "name": "python",
   "nbconvert_exporter": "python",
   "pygments_lexer": "ipython3",
   "version": "3.9.7"
  }
 },
 "nbformat": 4,
 "nbformat_minor": 2
}
